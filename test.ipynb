{
 "cells": [
  {
   "cell_type": "code",
   "execution_count": 33,
   "id": "initial_id",
   "metadata": {
    "collapsed": true,
    "ExecuteTime": {
     "end_time": "2023-08-13T09:58:21.628531400Z",
     "start_time": "2023-08-13T09:58:21.612196500Z"
    }
   },
   "outputs": [],
   "source": [
    "\n",
    "import os\n",
    "\n",
    "os.environ['DJANGO_SETTINGS_MODULE'] = 'unlockers.settings'\n",
    "\n",
    "import django\n",
    "\n",
    "django.setup()"
   ]
  },
  {
   "cell_type": "code",
   "execution_count": 34,
   "outputs": [],
   "source": [
    "# send_mail(\n",
    "#     'Тестовое письмо',\n",
    "#     'Текст тестового письма.',\n",
    "#     'nickolayvan@gmail.com',\n",
    "#     ['xadmin@bk.ru'],\n",
    "#     fail_silently=False,)"
   ],
   "metadata": {
    "collapsed": false,
    "ExecuteTime": {
     "end_time": "2023-08-13T09:58:22.029036800Z",
     "start_time": "2023-08-13T09:58:22.018855800Z"
    }
   },
   "id": "dfc9a04250572b2d"
  },
  {
   "cell_type": "code",
   "execution_count": 35,
   "outputs": [],
   "source": [
    "# WV57TXH\n",
    "# W1S 3PQ\n",
    "a = {\n",
    "    \"id\": 29,\n",
    "    \"car_registration\": \"WV57TXH\",\n",
    "    \"post_code\": \"W1S 3PQ\",\n",
    "    \"service\": 1,\n",
    "    \"car_model\": \"CORSA\",\n",
    "    \"manufacturer\": \"VAUXHALL\",\n",
    "    \"price\": \"195.00\",\n",
    "    \"phone\": \"+447501793857\"\n",
    "}"
   ],
   "metadata": {
    "collapsed": false,
    "ExecuteTime": {
     "end_time": "2023-08-13T09:58:22.354695900Z",
     "start_time": "2023-08-13T09:58:22.349697700Z"
    }
   },
   "id": "19c13a19803978d6"
  },
  {
   "cell_type": "code",
   "execution_count": 36,
   "outputs": [],
   "source": [],
   "metadata": {
    "collapsed": false,
    "ExecuteTime": {
     "end_time": "2023-08-13T09:58:22.712643100Z",
     "start_time": "2023-08-13T09:58:22.694639900Z"
    }
   },
   "id": "5fada65f690bba88"
  },
  {
   "cell_type": "code",
   "execution_count": 40,
   "outputs": [
    {
     "ename": "SynchronousOnlyOperation",
     "evalue": "You cannot call this from an async context - use a thread or sync_to_async.",
     "output_type": "error",
     "traceback": [
      "\u001B[1;31m---------------------------------------------------------------------------\u001B[0m",
      "\u001B[1;31mSynchronousOnlyOperation\u001B[0m                  Traceback (most recent call last)",
      "Cell \u001B[1;32mIn[40], line 28\u001B[0m\n\u001B[0;32m     24\u001B[0m \u001B[38;5;28;01mfrom\u001B[39;00m \u001B[38;5;21;01mapps\u001B[39;00m\u001B[38;5;21;01m.\u001B[39;00m\u001B[38;5;21;01mproxy\u001B[39;00m\u001B[38;5;21;01m.\u001B[39;00m\u001B[38;5;21;01mcontrib\u001B[39;00m \u001B[38;5;28;01mimport\u001B[39;00m ProxyGetter\n\u001B[0;32m     25\u001B[0m proxy_getter_instance \u001B[38;5;241m=\u001B[39m ProxyGetter()\n\u001B[1;32m---> 28\u001B[0m response \u001B[38;5;241m=\u001B[39m \u001B[43mmake_request_with_proxy\u001B[49m\u001B[43m(\u001B[49m\u001B[43mCAR_PARSING_URL\u001B[49m\u001B[43m,\u001B[49m\u001B[43m \u001B[49m\u001B[43mproxy_getter_instance\u001B[49m\u001B[43m)\u001B[49m\n\u001B[0;32m     29\u001B[0m \u001B[38;5;28mprint\u001B[39m(response\u001B[38;5;241m.\u001B[39mstatus_code)\n\u001B[0;32m     30\u001B[0m soup \u001B[38;5;241m=\u001B[39m bs(response\u001B[38;5;241m.\u001B[39mtext, \u001B[38;5;124m'\u001B[39m\u001B[38;5;124mlxml\u001B[39m\u001B[38;5;124m'\u001B[39m)\n",
      "Cell \u001B[1;32mIn[40], line 4\u001B[0m, in \u001B[0;36mmake_request_with_proxy\u001B[1;34m(url, proxy_getter)\u001B[0m\n\u001B[0;32m      2\u001B[0m \u001B[38;5;28;01mdef\u001B[39;00m \u001B[38;5;21mmake_request_with_proxy\u001B[39m(url, proxy_getter):\n\u001B[0;32m      3\u001B[0m     \u001B[38;5;28;01mtry\u001B[39;00m:\n\u001B[1;32m----> 4\u001B[0m         \u001B[38;5;28;01mfor\u001B[39;00m proxy_host \u001B[38;5;129;01min\u001B[39;00m proxy_getter\u001B[38;5;241m.\u001B[39mproxies():\n\u001B[0;32m      5\u001B[0m             proxies \u001B[38;5;241m=\u001B[39m {\n\u001B[0;32m      6\u001B[0m                 \u001B[38;5;124m'\u001B[39m\u001B[38;5;124mhttp\u001B[39m\u001B[38;5;124m'\u001B[39m: \u001B[38;5;124mf\u001B[39m\u001B[38;5;124m\"\u001B[39m\u001B[38;5;124mhttp://\u001B[39m\u001B[38;5;132;01m{\u001B[39;00mproxy_host\u001B[38;5;132;01m}\u001B[39;00m\u001B[38;5;124m\"\u001B[39m,\n\u001B[0;32m      7\u001B[0m                 \u001B[38;5;124m'\u001B[39m\u001B[38;5;124mhttps\u001B[39m\u001B[38;5;124m'\u001B[39m: \u001B[38;5;124mf\u001B[39m\u001B[38;5;124m\"\u001B[39m\u001B[38;5;124mhttps://\u001B[39m\u001B[38;5;132;01m{\u001B[39;00mproxy_host\u001B[38;5;132;01m}\u001B[39;00m\u001B[38;5;124m\"\u001B[39m\n\u001B[0;32m      8\u001B[0m             }\n\u001B[0;32m      9\u001B[0m             response \u001B[38;5;241m=\u001B[39m requests\u001B[38;5;241m.\u001B[39mpost(url,\n\u001B[0;32m     10\u001B[0m                                      data\u001B[38;5;241m=\u001B[39m{\u001B[38;5;124m'\u001B[39m\u001B[38;5;124mvrm\u001B[39m\u001B[38;5;124m'\u001B[39m: \u001B[38;5;124m'\u001B[39m\u001B[38;5;124mWV57TXH\u001B[39m\u001B[38;5;124m'\u001B[39m, \u001B[38;5;124m'\u001B[39m\u001B[38;5;124msubmit\u001B[39m\u001B[38;5;124m'\u001B[39m: \u001B[38;5;124m'\u001B[39m\u001B[38;5;124mLookup\u001B[39m\u001B[38;5;124m'\u001B[39m},\n\u001B[0;32m     11\u001B[0m                                      proxies\u001B[38;5;241m=\u001B[39mproxies\n\u001B[1;32m   (...)\u001B[0m\n\u001B[0;32m     14\u001B[0m                                      , verify\u001B[38;5;241m=\u001B[39m\u001B[38;5;28;01mFalse\u001B[39;00m\n\u001B[0;32m     15\u001B[0m                                      )\n",
      "File \u001B[1;32mD:\\projects\\fl\\unlockers\\apps\\proxy\\contrib.py:52\u001B[0m, in \u001B[0;36mProxyGetter.proxies\u001B[1;34m(self)\u001B[0m\n\u001B[0;32m     51\u001B[0m \u001B[38;5;28;01mdef\u001B[39;00m \u001B[38;5;21mproxies\u001B[39m(\u001B[38;5;28mself\u001B[39m):\n\u001B[1;32m---> 52\u001B[0m     \u001B[38;5;28;01mfor\u001B[39;00m host \u001B[38;5;129;01min\u001B[39;00m \u001B[38;5;28mself\u001B[39m\u001B[38;5;241m.\u001B[39mgetters\u001B[38;5;241m.\u001B[39mget(config\u001B[38;5;241m.\u001B[39mPROXY_TYPE)():\n\u001B[0;32m     53\u001B[0m         \u001B[38;5;28;01myield\u001B[39;00m host\n",
      "File \u001B[1;32mD:\\projects\\fl\\unlockers\\apps\\proxy\\contrib.py:34\u001B[0m, in \u001B[0;36mProxyGetter._auto_proxies\u001B[1;34m(self)\u001B[0m\n\u001B[0;32m     32\u001B[0m \u001B[38;5;28;01mdef\u001B[39;00m \u001B[38;5;21m_auto_proxies\u001B[39m(\u001B[38;5;28mself\u001B[39m):\n\u001B[0;32m     33\u001B[0m     \u001B[38;5;66;03m# Get valid proxies from db\u001B[39;00m\n\u001B[1;32m---> 34\u001B[0m     \u001B[38;5;28;01mfor\u001B[39;00m proxy \u001B[38;5;129;01min\u001B[39;00m Proxy\u001B[38;5;241m.\u001B[39mobjects\u001B[38;5;241m.\u001B[39mauto()\u001B[38;5;241m.\u001B[39mvalid():\n\u001B[0;32m     35\u001B[0m         \u001B[38;5;28;01myield\u001B[39;00m proxy\u001B[38;5;241m.\u001B[39mhost\n\u001B[0;32m     36\u001B[0m     \u001B[38;5;66;03m# Iterate remote proxies\u001B[39;00m\n",
      "File \u001B[1;32mD:\\projects\\fl\\unlockers\\env\\lib\\site-packages\\django\\db\\models\\query.py:398\u001B[0m, in \u001B[0;36mQuerySet.__iter__\u001B[1;34m(self)\u001B[0m\n\u001B[0;32m    383\u001B[0m \u001B[38;5;28;01mdef\u001B[39;00m \u001B[38;5;21m__iter__\u001B[39m(\u001B[38;5;28mself\u001B[39m):\n\u001B[0;32m    384\u001B[0m \u001B[38;5;250m    \u001B[39m\u001B[38;5;124;03m\"\"\"\u001B[39;00m\n\u001B[0;32m    385\u001B[0m \u001B[38;5;124;03m    The queryset iterator protocol uses three nested iterators in the\u001B[39;00m\n\u001B[0;32m    386\u001B[0m \u001B[38;5;124;03m    default case:\u001B[39;00m\n\u001B[1;32m   (...)\u001B[0m\n\u001B[0;32m    396\u001B[0m \u001B[38;5;124;03m           - Responsible for turning the rows into model objects.\u001B[39;00m\n\u001B[0;32m    397\u001B[0m \u001B[38;5;124;03m    \"\"\"\u001B[39;00m\n\u001B[1;32m--> 398\u001B[0m     \u001B[38;5;28;43mself\u001B[39;49m\u001B[38;5;241;43m.\u001B[39;49m\u001B[43m_fetch_all\u001B[49m\u001B[43m(\u001B[49m\u001B[43m)\u001B[49m\n\u001B[0;32m    399\u001B[0m     \u001B[38;5;28;01mreturn\u001B[39;00m \u001B[38;5;28miter\u001B[39m(\u001B[38;5;28mself\u001B[39m\u001B[38;5;241m.\u001B[39m_result_cache)\n",
      "File \u001B[1;32mD:\\projects\\fl\\unlockers\\env\\lib\\site-packages\\django\\db\\models\\query.py:1881\u001B[0m, in \u001B[0;36mQuerySet._fetch_all\u001B[1;34m(self)\u001B[0m\n\u001B[0;32m   1879\u001B[0m \u001B[38;5;28;01mdef\u001B[39;00m \u001B[38;5;21m_fetch_all\u001B[39m(\u001B[38;5;28mself\u001B[39m):\n\u001B[0;32m   1880\u001B[0m     \u001B[38;5;28;01mif\u001B[39;00m \u001B[38;5;28mself\u001B[39m\u001B[38;5;241m.\u001B[39m_result_cache \u001B[38;5;129;01mis\u001B[39;00m \u001B[38;5;28;01mNone\u001B[39;00m:\n\u001B[1;32m-> 1881\u001B[0m         \u001B[38;5;28mself\u001B[39m\u001B[38;5;241m.\u001B[39m_result_cache \u001B[38;5;241m=\u001B[39m \u001B[38;5;28;43mlist\u001B[39;49m\u001B[43m(\u001B[49m\u001B[38;5;28;43mself\u001B[39;49m\u001B[38;5;241;43m.\u001B[39;49m\u001B[43m_iterable_class\u001B[49m\u001B[43m(\u001B[49m\u001B[38;5;28;43mself\u001B[39;49m\u001B[43m)\u001B[49m\u001B[43m)\u001B[49m\n\u001B[0;32m   1882\u001B[0m     \u001B[38;5;28;01mif\u001B[39;00m \u001B[38;5;28mself\u001B[39m\u001B[38;5;241m.\u001B[39m_prefetch_related_lookups \u001B[38;5;129;01mand\u001B[39;00m \u001B[38;5;129;01mnot\u001B[39;00m \u001B[38;5;28mself\u001B[39m\u001B[38;5;241m.\u001B[39m_prefetch_done:\n\u001B[0;32m   1883\u001B[0m         \u001B[38;5;28mself\u001B[39m\u001B[38;5;241m.\u001B[39m_prefetch_related_objects()\n",
      "File \u001B[1;32mD:\\projects\\fl\\unlockers\\env\\lib\\site-packages\\django\\db\\models\\query.py:91\u001B[0m, in \u001B[0;36mModelIterable.__iter__\u001B[1;34m(self)\u001B[0m\n\u001B[0;32m     88\u001B[0m compiler \u001B[38;5;241m=\u001B[39m queryset\u001B[38;5;241m.\u001B[39mquery\u001B[38;5;241m.\u001B[39mget_compiler(using\u001B[38;5;241m=\u001B[39mdb)\n\u001B[0;32m     89\u001B[0m \u001B[38;5;66;03m# Execute the query. This will also fill compiler.select, klass_info,\u001B[39;00m\n\u001B[0;32m     90\u001B[0m \u001B[38;5;66;03m# and annotations.\u001B[39;00m\n\u001B[1;32m---> 91\u001B[0m results \u001B[38;5;241m=\u001B[39m \u001B[43mcompiler\u001B[49m\u001B[38;5;241;43m.\u001B[39;49m\u001B[43mexecute_sql\u001B[49m\u001B[43m(\u001B[49m\n\u001B[0;32m     92\u001B[0m \u001B[43m    \u001B[49m\u001B[43mchunked_fetch\u001B[49m\u001B[38;5;241;43m=\u001B[39;49m\u001B[38;5;28;43mself\u001B[39;49m\u001B[38;5;241;43m.\u001B[39;49m\u001B[43mchunked_fetch\u001B[49m\u001B[43m,\u001B[49m\u001B[43m \u001B[49m\u001B[43mchunk_size\u001B[49m\u001B[38;5;241;43m=\u001B[39;49m\u001B[38;5;28;43mself\u001B[39;49m\u001B[38;5;241;43m.\u001B[39;49m\u001B[43mchunk_size\u001B[49m\n\u001B[0;32m     93\u001B[0m \u001B[43m\u001B[49m\u001B[43m)\u001B[49m\n\u001B[0;32m     94\u001B[0m select, klass_info, annotation_col_map \u001B[38;5;241m=\u001B[39m (\n\u001B[0;32m     95\u001B[0m     compiler\u001B[38;5;241m.\u001B[39mselect,\n\u001B[0;32m     96\u001B[0m     compiler\u001B[38;5;241m.\u001B[39mklass_info,\n\u001B[0;32m     97\u001B[0m     compiler\u001B[38;5;241m.\u001B[39mannotation_col_map,\n\u001B[0;32m     98\u001B[0m )\n\u001B[0;32m     99\u001B[0m model_cls \u001B[38;5;241m=\u001B[39m klass_info[\u001B[38;5;124m\"\u001B[39m\u001B[38;5;124mmodel\u001B[39m\u001B[38;5;124m\"\u001B[39m]\n",
      "File \u001B[1;32mD:\\projects\\fl\\unlockers\\env\\lib\\site-packages\\django\\db\\models\\sql\\compiler.py:1560\u001B[0m, in \u001B[0;36mSQLCompiler.execute_sql\u001B[1;34m(self, result_type, chunked_fetch, chunk_size)\u001B[0m\n\u001B[0;32m   1558\u001B[0m     cursor \u001B[38;5;241m=\u001B[39m \u001B[38;5;28mself\u001B[39m\u001B[38;5;241m.\u001B[39mconnection\u001B[38;5;241m.\u001B[39mchunked_cursor()\n\u001B[0;32m   1559\u001B[0m \u001B[38;5;28;01melse\u001B[39;00m:\n\u001B[1;32m-> 1560\u001B[0m     cursor \u001B[38;5;241m=\u001B[39m \u001B[38;5;28;43mself\u001B[39;49m\u001B[38;5;241;43m.\u001B[39;49m\u001B[43mconnection\u001B[49m\u001B[38;5;241;43m.\u001B[39;49m\u001B[43mcursor\u001B[49m\u001B[43m(\u001B[49m\u001B[43m)\u001B[49m\n\u001B[0;32m   1561\u001B[0m \u001B[38;5;28;01mtry\u001B[39;00m:\n\u001B[0;32m   1562\u001B[0m     cursor\u001B[38;5;241m.\u001B[39mexecute(sql, params)\n",
      "File \u001B[1;32mD:\\projects\\fl\\unlockers\\env\\lib\\site-packages\\django\\utils\\asyncio.py:24\u001B[0m, in \u001B[0;36masync_unsafe.<locals>.decorator.<locals>.inner\u001B[1;34m(*args, **kwargs)\u001B[0m\n\u001B[0;32m     22\u001B[0m \u001B[38;5;28;01melse\u001B[39;00m:\n\u001B[0;32m     23\u001B[0m     \u001B[38;5;28;01mif\u001B[39;00m \u001B[38;5;129;01mnot\u001B[39;00m os\u001B[38;5;241m.\u001B[39menviron\u001B[38;5;241m.\u001B[39mget(\u001B[38;5;124m\"\u001B[39m\u001B[38;5;124mDJANGO_ALLOW_ASYNC_UNSAFE\u001B[39m\u001B[38;5;124m\"\u001B[39m):\n\u001B[1;32m---> 24\u001B[0m         \u001B[38;5;28;01mraise\u001B[39;00m SynchronousOnlyOperation(message)\n\u001B[0;32m     25\u001B[0m \u001B[38;5;66;03m# Pass onward.\u001B[39;00m\n\u001B[0;32m     26\u001B[0m \u001B[38;5;28;01mreturn\u001B[39;00m func(\u001B[38;5;241m*\u001B[39margs, \u001B[38;5;241m*\u001B[39m\u001B[38;5;241m*\u001B[39mkwargs)\n",
      "\u001B[1;31mSynchronousOnlyOperation\u001B[0m: You cannot call this from an async context - use a thread or sync_to_async."
     ]
    }
   ],
   "source": [],
   "metadata": {
    "collapsed": false,
    "ExecuteTime": {
     "end_time": "2023-08-13T11:27:55.748206500Z",
     "start_time": "2023-08-13T11:27:55.591165100Z"
    }
   },
   "id": "a1564478781916db"
  },
  {
   "cell_type": "code",
   "execution_count": 22,
   "outputs": [],
   "source": [],
   "metadata": {
    "collapsed": false,
    "ExecuteTime": {
     "end_time": "2023-08-13T09:38:20.958918200Z",
     "start_time": "2023-08-13T09:38:20.951917400Z"
    }
   },
   "id": "980ce5e4d1d496a"
  },
  {
   "cell_type": "code",
   "execution_count": 23,
   "outputs": [
    {
     "name": "stdout",
     "output_type": "stream",
     "text": [
      "VAUXHALL CORSA 2007\n"
     ]
    }
   ],
   "source": [],
   "metadata": {
    "collapsed": false,
    "ExecuteTime": {
     "end_time": "2023-08-13T09:38:30.065956Z",
     "start_time": "2023-08-13T09:38:30.023799500Z"
    }
   },
   "id": "95cf6c85218a2a32"
  },
  {
   "cell_type": "code",
   "execution_count": null,
   "outputs": [],
   "source": [],
   "metadata": {
    "collapsed": false
   },
   "id": "5350e552ba6e3de1"
  }
 ],
 "metadata": {
  "kernelspec": {
   "display_name": "Python 3",
   "language": "python",
   "name": "python3"
  },
  "language_info": {
   "codemirror_mode": {
    "name": "ipython",
    "version": 2
   },
   "file_extension": ".py",
   "mimetype": "text/x-python",
   "name": "python",
   "nbconvert_exporter": "python",
   "pygments_lexer": "ipython2",
   "version": "2.7.6"
  }
 },
 "nbformat": 4,
 "nbformat_minor": 5
}
